{
  "nbformat": 4,
  "nbformat_minor": 0,
  "metadata": {
    "colab": {
      "name": "Experimentos com Python e R hibrido.ipynb",
      "provenance": [],
      "collapsed_sections": [],
      "authorship_tag": "ABX9TyMaTluybm1D3yLNkPcwRjDM",
      "include_colab_link": true
    },
    "kernelspec": {
      "name": "python3",
      "display_name": "Python 3"
    }
  },
  "cells": [
    {
      "cell_type": "markdown",
      "metadata": {
        "id": "view-in-github",
        "colab_type": "text"
      },
      "source": [
        "<a href=\"https://colab.research.google.com/github/bioduds/ALGORITMOS-UFMG/blob/main/Experimentos_com_Python_e_R_hibrido.ipynb\" target=\"_parent\"><img src=\"https://colab.research.google.com/assets/colab-badge.svg\" alt=\"Open In Colab\"/></a>"
      ]
    },
    {
      "cell_type": "markdown",
      "metadata": {
        "id": "XWyZYjreB_LK"
      },
      "source": [
        "# Usando Python e R de forma híbrida (alguns exemplos com Álgebra Linear)\n",
        "---\n",
        "\n",
        "**Author:** Eduardo Capanema\n"
      ]
    },
    {
      "cell_type": "code",
      "metadata": {
        "colab": {
          "base_uri": "https://localhost:8080/"
        },
        "id": "iROf6qmYgbJ7",
        "outputId": "c49252fd-4c03-4dba-e838-fe40946e16cc"
      },
      "source": [
        "# ativamos R magic para usar R e Python de forma híbrida\n",
        "%load_ext rpy2.ipython"
      ],
      "execution_count": 1,
      "outputs": [
        {
          "output_type": "stream",
          "text": [
            "/usr/local/lib/python3.6/dist-packages/rpy2/robjects/pandas2ri.py:14: FutureWarning: pandas.core.index is deprecated and will be removed in a future version.  The public classes are available in the top-level namespace.\n",
            "  from pandas.core.index import Index as PandasIndex\n",
            "/usr/local/lib/python3.6/dist-packages/rpy2/robjects/pandas2ri.py:34: UserWarning: pandas >= 1.0 is not supported.\n",
            "  warnings.warn('pandas >= 1.0 is not supported.')\n"
          ],
          "name": "stderr"
        }
      ]
    },
    {
      "cell_type": "code",
      "metadata": {
        "id": "DOHtDV0FglBk"
      },
      "source": [
        "import pandas as pd\n",
        "import numpy as np"
      ],
      "execution_count": null,
      "outputs": []
    },
    {
      "cell_type": "markdown",
      "metadata": {
        "id": "uJoDCosZEqJu"
      },
      "source": [
        "Usamos código R utilizando %%R como abaixo"
      ]
    },
    {
      "cell_type": "code",
      "metadata": {
        "colab": {
          "base_uri": "https://localhost:8080/"
        },
        "id": "Eho2_EbdgtaT",
        "outputId": "8edfa377-2cba-489f-8c29-a6f8c7c4e523"
      },
      "source": [
        "%%R\n",
        "\n",
        "x <- 42\n",
        "print( x )"
      ],
      "execution_count": 2,
      "outputs": [
        {
          "output_type": "stream",
          "text": [
            "[1] 42\n"
          ],
          "name": "stdout"
        }
      ]
    },
    {
      "cell_type": "code",
      "metadata": {
        "id": "1KwlpqXwg0bj"
      },
      "source": [
        "%%R \n",
        "\n",
        "soma <- function( v1, v2 ) {\n",
        "    return ( v1 + v2 )\n",
        "}\n"
      ],
      "execution_count": 17,
      "outputs": []
    },
    {
      "cell_type": "markdown",
      "metadata": {
        "id": "aP7bvV_ZJYuH"
      },
      "source": [
        "Usamos %R -o para chamar a função de R e carregar em uma variável no Python"
      ]
    },
    {
      "cell_type": "code",
      "metadata": {
        "colab": {
          "base_uri": "https://localhost:8080/"
        },
        "id": "oYUQIoqzJcg-",
        "outputId": "75387c11-66d8-4b25-a12b-bb2ffc647e1f"
      },
      "source": [
        "%R -o S S=soma( 1, 2 )\n",
        "print( \"Beleza \", S )\n",
        "type( S )"
      ],
      "execution_count": 78,
      "outputs": [
        {
          "output_type": "stream",
          "text": [
            "Beleza  [3.]\n"
          ],
          "name": "stdout"
        },
        {
          "output_type": "execute_result",
          "data": {
            "text/plain": [
              "numpy.ndarray"
            ]
          },
          "metadata": {
            "tags": []
          },
          "execution_count": 78
        }
      ]
    },
    {
      "cell_type": "markdown",
      "metadata": {
        "id": "2s1VzcVLNPnb"
      },
      "source": [
        "Usamos %Rpush para carregar uma variável de Python dentro do R\n"
      ]
    },
    {
      "cell_type": "code",
      "metadata": {
        "id": "gVi74VoYNYn6"
      },
      "source": [
        "X = np.array( [ 4.5, 6.3, 7.9] )\n",
        "X.mean()\n",
        "\n",
        "%Rpush X\n"
      ],
      "execution_count": 38,
      "outputs": []
    },
    {
      "cell_type": "code",
      "metadata": {
        "colab": {
          "base_uri": "https://localhost:8080/"
        },
        "id": "2GAqbh3WQQ7S",
        "outputId": "8fb7c6df-32df-4c34-90fc-c38ff6b01714"
      },
      "source": [
        "%%R \n",
        "print( X )"
      ],
      "execution_count": 39,
      "outputs": [
        {
          "output_type": "stream",
          "text": [
            "[1] 4.5 6.3 7.9\n"
          ],
          "name": "stdout"
        }
      ]
    },
    {
      "cell_type": "markdown",
      "metadata": {
        "id": "2WYIPT8WQfmq"
      },
      "source": [
        "E usamos %R -o para carregar uma variável de R dentro do Python"
      ]
    },
    {
      "cell_type": "code",
      "metadata": {
        "colab": {
          "base_uri": "https://localhost:8080/"
        },
        "id": "muh7nFHtQmk8",
        "outputId": "999e1c75-2101-40ac-a9ac-a94f4238455d"
      },
      "source": [
        "%%R\n",
        "\n",
        "D <- c( 2, 3, 4.5 )\n",
        "D\n",
        "tr <- t(D)\n",
        "print( tr )"
      ],
      "execution_count": 86,
      "outputs": [
        {
          "output_type": "stream",
          "text": [
            "     [,1] [,2] [,3]\n",
            "[1,]    2    3  4.5\n"
          ],
          "name": "stdout"
        }
      ]
    },
    {
      "cell_type": "code",
      "metadata": {
        "colab": {
          "base_uri": "https://localhost:8080/"
        },
        "id": "ufRplviDQyXG",
        "outputId": "28711442-df8b-49cc-b32a-fb113f4f4a5c"
      },
      "source": [
        "%R -o D\n",
        "\n",
        "print( D )\n",
        "type( D )"
      ],
      "execution_count": 68,
      "outputs": [
        {
          "output_type": "stream",
          "text": [
            "[2.  3.  4.5]\n"
          ],
          "name": "stdout"
        },
        {
          "output_type": "execute_result",
          "data": {
            "text/plain": [
              "numpy.ndarray"
            ]
          },
          "metadata": {
            "tags": []
          },
          "execution_count": 68
        }
      ]
    },
    {
      "cell_type": "markdown",
      "metadata": {
        "id": "Rb6DpfkcUCol"
      },
      "source": [
        "Experimentemos uma matriz em R"
      ]
    },
    {
      "cell_type": "code",
      "metadata": {
        "id": "6ZJC3hExUIeo"
      },
      "source": [
        "%%R\n",
        "\n",
        "M <- matrix( c( 1, 3, 4, 5, 4, 3 ) )\n"
      ],
      "execution_count": 72,
      "outputs": []
    },
    {
      "cell_type": "markdown",
      "metadata": {
        "id": "b84DKaEOUoSW"
      },
      "source": [
        "Vamos tentar puxar essa matriz para python\n"
      ]
    },
    {
      "cell_type": "code",
      "metadata": {
        "colab": {
          "base_uri": "https://localhost:8080/"
        },
        "id": "Pe-Xf4FlUra2",
        "outputId": "bb0b3e2e-eb9a-4fa9-cfd0-28f4566b19bb"
      },
      "source": [
        "%R -o M\n",
        "\n",
        "M"
      ],
      "execution_count": 74,
      "outputs": [
        {
          "output_type": "execute_result",
          "data": {
            "text/plain": [
              "array([[1.],\n",
              "       [3.],\n",
              "       [4.],\n",
              "       [5.],\n",
              "       [4.],\n",
              "       [3.]])"
            ]
          },
          "metadata": {
            "tags": []
          },
          "execution_count": 74
        }
      ]
    },
    {
      "cell_type": "markdown",
      "metadata": {
        "id": "T63uNGwaU7AZ"
      },
      "source": [
        "Vamos tentar o contrário, criar uma matriz numpy e mandar pro R"
      ]
    },
    {
      "cell_type": "code",
      "metadata": {
        "id": "edVQiUUPU_O4"
      },
      "source": [
        "Matrix = np.array( [ [3, 5, 8], [0, 2, 2], [9, 14, 2] ])\n",
        "%Rpush Matrix\n"
      ],
      "execution_count": 76,
      "outputs": []
    },
    {
      "cell_type": "code",
      "metadata": {
        "colab": {
          "base_uri": "https://localhost:8080/"
        },
        "id": "3W_MXqsBVRhP",
        "outputId": "d95741b6-e7c1-44f2-c0ba-365061477f76"
      },
      "source": [
        "%%R\n",
        "print( Matrix )"
      ],
      "execution_count": 80,
      "outputs": [
        {
          "output_type": "stream",
          "text": [
            "     [,1] [,2] [,3]\n",
            "[1,]    3    5    8\n",
            "[2,]    0    2    2\n",
            "[3,]    9   14    2\n"
          ],
          "name": "stdout"
        }
      ]
    },
    {
      "cell_type": "markdown",
      "metadata": {
        "id": "FkvXhZnmV1gR"
      },
      "source": [
        "Vamos transpor a matriz e retornar pro Python\n"
      ]
    },
    {
      "cell_type": "code",
      "metadata": {
        "colab": {
          "base_uri": "https://localhost:8080/"
        },
        "id": "jL0xaX9fV0wZ",
        "outputId": "357e8297-5bb7-4b92-aac4-256c576a6033"
      },
      "source": [
        "%%R\n",
        "trMatrix = t( Matrix )\n",
        "print( trMatrix )"
      ],
      "execution_count": 88,
      "outputs": [
        {
          "output_type": "stream",
          "text": [
            "     [,1] [,2] [,3]\n",
            "[1,]    3    0    9\n",
            "[2,]    5    2   14\n",
            "[3,]    8    2    2\n"
          ],
          "name": "stdout"
        }
      ]
    },
    {
      "cell_type": "code",
      "metadata": {
        "colab": {
          "base_uri": "https://localhost:8080/"
        },
        "id": "BkbVxcQgWcdw",
        "outputId": "eb73b2e1-2d60-4fb6-9785-303e7ba2ec6c"
      },
      "source": [
        "%R -o trMatrix\n",
        "\n",
        "trMatrix"
      ],
      "execution_count": 90,
      "outputs": [
        {
          "output_type": "execute_result",
          "data": {
            "text/plain": [
              "array([[ 3,  0,  9],\n",
              "       [ 5,  2, 14],\n",
              "       [ 8,  2,  2]], dtype=int32)"
            ]
          },
          "metadata": {
            "tags": []
          },
          "execution_count": 90
        }
      ]
    },
    {
      "cell_type": "markdown",
      "metadata": {
        "id": "5CteNwqoZssz"
      },
      "source": [
        "Agora vamos comparar a solução de um sistema linear em R e em Python:"
      ]
    },
    {
      "cell_type": "code",
      "metadata": {
        "colab": {
          "base_uri": "https://localhost:8080/"
        },
        "id": "AR06NGCaZx7i",
        "outputId": "72f84d6e-2a85-4064-dde0-3e2402896dcf"
      },
      "source": [
        "%%R\n",
        "\n",
        "A <- matrix( c( 1, 2, 3, 4 ), ncol = 2 )\n",
        "b <- c( 7, 10 )\n",
        "x <- solve( A ) %*% b\n",
        "print( x )"
      ],
      "execution_count": 103,
      "outputs": [
        {
          "output_type": "stream",
          "text": [
            "     [,1]\n",
            "[1,]    1\n",
            "[2,]    2\n"
          ],
          "name": "stdout"
        }
      ]
    },
    {
      "cell_type": "code",
      "metadata": {
        "colab": {
          "base_uri": "https://localhost:8080/"
        },
        "id": "_rYQMEjUamUX",
        "outputId": "df7d192c-de6b-4542-ba23-014961ddda29"
      },
      "source": [
        "A = np.array( [ [1, 3], [2, 4] ])\n",
        "b = np.array( [ [7], [10] ] )\n",
        "x = np.linalg.inv( A ) @ b\n",
        "print( x )"
      ],
      "execution_count": 104,
      "outputs": [
        {
          "output_type": "stream",
          "text": [
            "[[1.]\n",
            " [2.]]\n"
          ],
          "name": "stdout"
        }
      ]
    }
  ]
}