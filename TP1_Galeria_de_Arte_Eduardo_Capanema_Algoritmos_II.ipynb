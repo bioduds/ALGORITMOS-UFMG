{
  "nbformat": 4,
  "nbformat_minor": 0,
  "metadata": {
    "colab": {
      "name": "TP1 - Galeria de Arte - Eduardo Capanema - Algoritmos II.ipynb",
      "provenance": [],
      "collapsed_sections": [],
      "toc_visible": true,
      "authorship_tag": "ABX9TyNQxwUootvreOKYd9N4CNVq",
      "include_colab_link": true
    },
    "kernelspec": {
      "name": "python3",
      "display_name": "Python 3"
    },
    "language_info": {
      "name": "python"
    }
  },
  "cells": [
    {
      "cell_type": "markdown",
      "metadata": {
        "id": "view-in-github",
        "colab_type": "text"
      },
      "source": [
        "<a href=\"https://colab.research.google.com/github/bioduds/ALGORITMOS-UFMG/blob/main/TP1_Galeria_de_Arte_Eduardo_Capanema_Algoritmos_II.ipynb\" target=\"_parent\"><img src=\"https://colab.research.google.com/assets/colab-badge.svg\" alt=\"Open In Colab\"/></a>"
      ]
    },
    {
      "cell_type": "markdown",
      "metadata": {
        "id": "1XzBRzKbWs7s"
      },
      "source": [
        "# Trabalho Prático 1 - Galeria de Arte\n",
        "\n",
        "---\n",
        "## Algoritmos I\n",
        "---\n",
        "\n",
        "**Eduardo Capanema 2020041515**\n",
        "\n",
        "### Descrição do Problema\n",
        "---\n",
        "\n",
        "Queremos escrever uma implementação para o problema da galeria de arte (triangulação de polígonos), visto em sala de aula.\n",
        "\n",
        "### Algoritmos e Estruturas\n",
        "---\n",
        "\n",
        "Precisaremos desenvolver uma implementação do algoritmo Ear-Clipping. Em seguida, devemos realizar uma 3-coloração do grafo obtido pela triangulação.\n",
        "\n"
      ]
    },
    {
      "cell_type": "code",
      "metadata": {
        "id": "5rcXwwGJWkAy"
      },
      "source": [
        "# Juntar imports aqui\n",
        "import numpy as np\n",
        "from matplotlib import pyplot as plt\n"
      ],
      "execution_count": 16,
      "outputs": []
    },
    {
      "cell_type": "markdown",
      "metadata": {
        "id": "3MB-7zPfsd4w"
      },
      "source": [
        "# Gerando polígonos convexos\n",
        "---\n",
        "\n",
        "A base da nossa solução é partir de um polígono convexo que representa uma galeria de arte genérica. \n"
      ]
    },
    {
      "cell_type": "code",
      "metadata": {
        "colab": {
          "base_uri": "https://localhost:8080/",
          "height": 265
        },
        "id": "9ERODpiTAD1I",
        "outputId": "e83a4eed-9f54-4db3-d488-0e2614451e52"
      },
      "source": [
        "import numpy as np\n",
        "from matplotlib import pyplot as plt\n",
        "\n",
        "def poligono_convexo_aleatorio( ax, n ) :\n",
        "    x = np.random.randint( 0, 200, n )\n",
        "    y = np.random.randint( 0, 200, n )\n",
        "    center_point = [np.sum(x)/n, np.sum( y )/n]\n",
        "    angles = np.arctan2( x-center_point[0], y-center_point[1] )\n",
        "    sort_tups = sorted( [( i, j, k ) for i, j, k in zip( x, y, angles )], key=lambda t:t[2] )\n",
        "    if len( sort_tups ) != len( set( sort_tups ) ) :\n",
        "        raise Exception( 'two equal coordinates -- exiting' )\n",
        "    x, y, angles = zip( *sort_tups )\n",
        "    x = list( x )\n",
        "    y = list( y )\n",
        "    x.append( x[0] )\n",
        "    y.append( y[0] )\n",
        "    ax.plot( x, y, label = 'Galeria Randômica' )\n",
        "\n",
        "if __name__ == '__main__':\n",
        "    fig, ax = plt.subplots()\n",
        "    poligono_convexo_aleatorio( ax, 15 )\n",
        "    ax.legend()\n",
        "    plt.show()"
      ],
      "execution_count": 17,
      "outputs": [
        {
          "output_type": "display_data",
          "data": {
            "image/png": "[encoded data removed]",
            "text/plain": [
              "<Figure size 432x288 with 1 Axes>"
            ]
          },
          "metadata": {
            "tags": [],
            "needs_background": "light"
          }
        }
      ]
    },
    {
      "cell_type": "markdown",
      "metadata": {
        "id": "2e72jOPlYnNZ"
      },
      "source": [
        "### Realizando a Triangulação\n",
        "---\n",
        "\n",
        "Precisamos agora realizar a triangulação. Vamos utilizar o algoritmo Ear Clipping visto em aulas."
      ]
    }
  ]
}